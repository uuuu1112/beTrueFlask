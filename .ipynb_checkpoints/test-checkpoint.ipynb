{
 "cells": [
  {
   "cell_type": "code",
   "execution_count": 1,
   "id": "16d8c9c9",
   "metadata": {},
   "outputs": [
    {
     "name": "stdout",
     "output_type": "stream",
     "text": [
      "start get data TaiwanStockMonthRevenue\n",
      "start get data TaiwanStockPrice\n",
      "start get data TaiwanStockFinancialStatements\n",
      "start get data TaiwanStockDividend\n",
      "get single data:  2330 2015-01-01 2023-02-08 TaiwanStockMonthRevenue\n",
      "get single data:  2330 2015-01-01 2023-02-08 TaiwanStockPrice\n",
      "get single data:  2330 2015-01-01 2023-02-08 TaiwanStockDividend\n",
      "get single data:  2330 2015-01-01 2023-02-08 TaiwanStockFinancialStatements\n"
     ]
    }
   ],
   "source": [
    "from data import *\n",
    "\n",
    "table=BasicTable('2330')"
   ]
  },
  {
   "cell_type": "code",
   "execution_count": null,
   "id": "4a00804c",
   "metadata": {},
   "outputs": [],
   "source": []
  }
 ],
 "metadata": {
  "kernelspec": {
   "display_name": "Python 3 (ipykernel)",
   "language": "python",
   "name": "python3"
  },
  "language_info": {
   "codemirror_mode": {
    "name": "ipython",
    "version": 3
   },
   "file_extension": ".py",
   "mimetype": "text/x-python",
   "name": "python",
   "nbconvert_exporter": "python",
   "pygments_lexer": "ipython3",
   "version": "3.9.7"
  }
 },
 "nbformat": 4,
 "nbformat_minor": 5
}
